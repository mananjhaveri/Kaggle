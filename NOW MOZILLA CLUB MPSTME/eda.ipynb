{
 "cells": [
  {
   "cell_type": "markdown",
   "metadata": {},
   "source": [
    "# EDA"
   ]
  },
  {
   "cell_type": "markdown",
   "metadata": {},
   "source": [
    "### importing data and important libraries"
   ]
  },
  {
   "cell_type": "code",
   "execution_count": 2,
   "metadata": {},
   "outputs": [],
   "source": [
    "import pandas as pd\n",
    "import numpy as np\n",
    "import seaborn as sns\n",
    "import matplotlib.pyplot as plt"
   ]
  },
  {
   "cell_type": "code",
   "execution_count": 3,
   "metadata": {},
   "outputs": [],
   "source": [
    "train = pd.read_csv(\"train.csv\")\n",
    "test = pd.read_csv(\"test.csv\")"
   ]
  },
  {
   "cell_type": "markdown",
   "metadata": {},
   "source": [
    "### Understanding the data"
   ]
  },
  {
   "cell_type": "code",
   "execution_count": 4,
   "metadata": {},
   "outputs": [
    {
     "data": {
      "text/plain": [
       "((95, 11), (42, 10))"
      ]
     },
     "execution_count": 4,
     "metadata": {},
     "output_type": "execute_result"
    }
   ],
   "source": [
    "train.shape, test.shape"
   ]
  },
  {
   "cell_type": "code",
   "execution_count": 5,
   "metadata": {},
   "outputs": [
    {
     "data": {
      "text/html": [
       "<div>\n",
       "<style scoped>\n",
       "    .dataframe tbody tr th:only-of-type {\n",
       "        vertical-align: middle;\n",
       "    }\n",
       "\n",
       "    .dataframe tbody tr th {\n",
       "        vertical-align: top;\n",
       "    }\n",
       "\n",
       "    .dataframe thead th {\n",
       "        text-align: right;\n",
       "    }\n",
       "</style>\n",
       "<table border=\"1\" class=\"dataframe\">\n",
       "  <thead>\n",
       "    <tr style=\"text-align: right;\">\n",
       "      <th></th>\n",
       "      <th>Country</th>\n",
       "      <th>Economy (GDP per capita)</th>\n",
       "      <th>Family</th>\n",
       "      <th>Life Expectancy</th>\n",
       "      <th>Freedom</th>\n",
       "      <th>Trust</th>\n",
       "      <th>Generosity</th>\n",
       "      <th>Dystopia Residual</th>\n",
       "      <th>Social Support</th>\n",
       "      <th>X1</th>\n",
       "      <th>Happiness Score</th>\n",
       "    </tr>\n",
       "  </thead>\n",
       "  <tbody>\n",
       "    <tr>\n",
       "      <th>0</th>\n",
       "      <td>Kazakhstan</td>\n",
       "      <td>2.191</td>\n",
       "      <td>2.154</td>\n",
       "      <td>0.637</td>\n",
       "      <td>0.445</td>\n",
       "      <td>0.106</td>\n",
       "      <td>1.153</td>\n",
       "      <td>2.175</td>\n",
       "      <td>2.512</td>\n",
       "      <td>0.041</td>\n",
       "      <td>5.714</td>\n",
       "    </tr>\n",
       "    <tr>\n",
       "      <th>1</th>\n",
       "      <td>Guinea</td>\n",
       "      <td>1.273</td>\n",
       "      <td>1.522</td>\n",
       "      <td>0.242</td>\n",
       "      <td>0.352</td>\n",
       "      <td>0.106</td>\n",
       "      <td>1.249</td>\n",
       "      <td>1.900</td>\n",
       "      <td>1.810</td>\n",
       "      <td>0.036</td>\n",
       "      <td>3.349</td>\n",
       "    </tr>\n",
       "    <tr>\n",
       "      <th>2</th>\n",
       "      <td>Cameroon</td>\n",
       "      <td>1.519</td>\n",
       "      <td>1.820</td>\n",
       "      <td>0.201</td>\n",
       "      <td>0.437</td>\n",
       "      <td>0.050</td>\n",
       "      <td>1.208</td>\n",
       "      <td>2.268</td>\n",
       "      <td>1.900</td>\n",
       "      <td>0.047</td>\n",
       "      <td>4.456</td>\n",
       "    </tr>\n",
       "    <tr>\n",
       "      <th>3</th>\n",
       "      <td>Poland</td>\n",
       "      <td>2.209</td>\n",
       "      <td>2.257</td>\n",
       "      <td>0.767</td>\n",
       "      <td>0.506</td>\n",
       "      <td>0.054</td>\n",
       "      <td>1.139</td>\n",
       "      <td>1.955</td>\n",
       "      <td>2.443</td>\n",
       "      <td>0.043</td>\n",
       "      <td>5.066</td>\n",
       "    </tr>\n",
       "    <tr>\n",
       "      <th>4</th>\n",
       "      <td>Mexico</td>\n",
       "      <td>2.079</td>\n",
       "      <td>1.947</td>\n",
       "      <td>0.772</td>\n",
       "      <td>0.437</td>\n",
       "      <td>0.139</td>\n",
       "      <td>1.104</td>\n",
       "      <td>3.333</td>\n",
       "      <td>2.288</td>\n",
       "      <td>0.042</td>\n",
       "      <td>7.342</td>\n",
       "    </tr>\n",
       "  </tbody>\n",
       "</table>\n",
       "</div>"
      ],
      "text/plain": [
       "      Country  Economy (GDP per capita)  Family  Life Expectancy  Freedom  \\\n",
       "0  Kazakhstan                     2.191   2.154            0.637    0.445   \n",
       "1      Guinea                     1.273   1.522            0.242    0.352   \n",
       "2    Cameroon                     1.519   1.820            0.201    0.437   \n",
       "3      Poland                     2.209   2.257            0.767    0.506   \n",
       "4      Mexico                     2.079   1.947            0.772    0.437   \n",
       "\n",
       "   Trust  Generosity  Dystopia Residual  Social Support     X1  \\\n",
       "0  0.106       1.153              2.175           2.512  0.041   \n",
       "1  0.106       1.249              1.900           1.810  0.036   \n",
       "2  0.050       1.208              2.268           1.900  0.047   \n",
       "3  0.054       1.139              1.955           2.443  0.043   \n",
       "4  0.139       1.104              3.333           2.288  0.042   \n",
       "\n",
       "   Happiness Score  \n",
       "0            5.714  \n",
       "1            3.349  \n",
       "2            4.456  \n",
       "3            5.066  \n",
       "4            7.342  "
      ]
     },
     "execution_count": 5,
     "metadata": {},
     "output_type": "execute_result"
    }
   ],
   "source": [
    "train.head()"
   ]
  },
  {
   "cell_type": "code",
   "execution_count": 6,
   "metadata": {},
   "outputs": [
    {
     "name": "stdout",
     "output_type": "stream",
     "text": [
      "<class 'pandas.core.frame.DataFrame'>\n",
      "RangeIndex: 95 entries, 0 to 94\n",
      "Data columns (total 11 columns):\n",
      " #   Column                    Non-Null Count  Dtype  \n",
      "---  ------                    --------------  -----  \n",
      " 0   Country                   95 non-null     object \n",
      " 1   Economy (GDP per capita)  95 non-null     float64\n",
      " 2   Family                    95 non-null     float64\n",
      " 3   Life Expectancy           95 non-null     float64\n",
      " 4   Freedom                   95 non-null     float64\n",
      " 5   Trust                     94 non-null     float64\n",
      " 6   Generosity                95 non-null     float64\n",
      " 7   Dystopia Residual         95 non-null     float64\n",
      " 8   Social Support            95 non-null     float64\n",
      " 9   X1                        95 non-null     float64\n",
      " 10  Happiness Score           95 non-null     float64\n",
      "dtypes: float64(10), object(1)\n",
      "memory usage: 8.3+ KB\n"
     ]
    }
   ],
   "source": [
    "train.info()"
   ]
  },
  {
   "cell_type": "code",
   "execution_count": 7,
   "metadata": {},
   "outputs": [
    {
     "data": {
      "text/html": [
       "<div>\n",
       "<style scoped>\n",
       "    .dataframe tbody tr th:only-of-type {\n",
       "        vertical-align: middle;\n",
       "    }\n",
       "\n",
       "    .dataframe tbody tr th {\n",
       "        vertical-align: top;\n",
       "    }\n",
       "\n",
       "    .dataframe thead th {\n",
       "        text-align: right;\n",
       "    }\n",
       "</style>\n",
       "<table border=\"1\" class=\"dataframe\">\n",
       "  <thead>\n",
       "    <tr style=\"text-align: right;\">\n",
       "      <th></th>\n",
       "      <th>Economy (GDP per capita)</th>\n",
       "      <th>Family</th>\n",
       "      <th>Life Expectancy</th>\n",
       "      <th>Freedom</th>\n",
       "      <th>Trust</th>\n",
       "      <th>Generosity</th>\n",
       "      <th>Dystopia Residual</th>\n",
       "      <th>Social Support</th>\n",
       "      <th>X1</th>\n",
       "      <th>Happiness Score</th>\n",
       "    </tr>\n",
       "  </thead>\n",
       "  <tbody>\n",
       "    <tr>\n",
       "      <th>count</th>\n",
       "      <td>95.000000</td>\n",
       "      <td>95.000000</td>\n",
       "      <td>95.000000</td>\n",
       "      <td>95.000000</td>\n",
       "      <td>94.000000</td>\n",
       "      <td>95.000000</td>\n",
       "      <td>95.000000</td>\n",
       "      <td>95.000000</td>\n",
       "      <td>95.000000</td>\n",
       "      <td>95.000000</td>\n",
       "    </tr>\n",
       "    <tr>\n",
       "      <th>mean</th>\n",
       "      <td>1.949379</td>\n",
       "      <td>2.029263</td>\n",
       "      <td>0.628884</td>\n",
       "      <td>0.426989</td>\n",
       "      <td>0.118585</td>\n",
       "      <td>1.209832</td>\n",
       "      <td>2.086105</td>\n",
       "      <td>2.255084</td>\n",
       "      <td>0.046411</td>\n",
       "      <td>5.536642</td>\n",
       "    </tr>\n",
       "    <tr>\n",
       "      <th>std</th>\n",
       "      <td>0.380259</td>\n",
       "      <td>0.235324</td>\n",
       "      <td>0.225156</td>\n",
       "      <td>0.131867</td>\n",
       "      <td>0.103389</td>\n",
       "      <td>0.116063</td>\n",
       "      <td>0.522508</td>\n",
       "      <td>0.251149</td>\n",
       "      <td>0.015619</td>\n",
       "      <td>1.227575</td>\n",
       "    </tr>\n",
       "    <tr>\n",
       "      <th>min</th>\n",
       "      <td>1.089000</td>\n",
       "      <td>1.357000</td>\n",
       "      <td>0.050000</td>\n",
       "      <td>0.086000</td>\n",
       "      <td>0.002000</td>\n",
       "      <td>1.000000</td>\n",
       "      <td>0.669000</td>\n",
       "      <td>1.550000</td>\n",
       "      <td>0.020000</td>\n",
       "      <td>3.202000</td>\n",
       "    </tr>\n",
       "    <tr>\n",
       "      <th>25%</th>\n",
       "      <td>1.669500</td>\n",
       "      <td>1.894000</td>\n",
       "      <td>0.477500</td>\n",
       "      <td>0.336500</td>\n",
       "      <td>0.051000</td>\n",
       "      <td>1.129500</td>\n",
       "      <td>1.773500</td>\n",
       "      <td>2.104500</td>\n",
       "      <td>0.037500</td>\n",
       "      <td>4.520500</td>\n",
       "    </tr>\n",
       "    <tr>\n",
       "      <th>50%</th>\n",
       "      <td>2.036000</td>\n",
       "      <td>2.058000</td>\n",
       "      <td>0.674000</td>\n",
       "      <td>0.437000</td>\n",
       "      <td>0.082500</td>\n",
       "      <td>1.194000</td>\n",
       "      <td>2.066000</td>\n",
       "      <td>2.302000</td>\n",
       "      <td>0.044000</td>\n",
       "      <td>5.569000</td>\n",
       "    </tr>\n",
       "    <tr>\n",
       "      <th>75%</th>\n",
       "      <td>2.232500</td>\n",
       "      <td>2.233000</td>\n",
       "      <td>0.785500</td>\n",
       "      <td>0.513000</td>\n",
       "      <td>0.140500</td>\n",
       "      <td>1.271000</td>\n",
       "      <td>2.407500</td>\n",
       "      <td>2.476000</td>\n",
       "      <td>0.049000</td>\n",
       "      <td>6.349000</td>\n",
       "    </tr>\n",
       "    <tr>\n",
       "      <th>max</th>\n",
       "      <td>2.645000</td>\n",
       "      <td>2.358000</td>\n",
       "      <td>0.979000</td>\n",
       "      <td>0.656000</td>\n",
       "      <td>0.473000</td>\n",
       "      <td>1.724000</td>\n",
       "      <td>3.333000</td>\n",
       "      <td>2.590000</td>\n",
       "      <td>0.137000</td>\n",
       "      <td>8.274000</td>\n",
       "    </tr>\n",
       "  </tbody>\n",
       "</table>\n",
       "</div>"
      ],
      "text/plain": [
       "       Economy (GDP per capita)     Family  Life Expectancy    Freedom  \\\n",
       "count                 95.000000  95.000000        95.000000  95.000000   \n",
       "mean                   1.949379   2.029263         0.628884   0.426989   \n",
       "std                    0.380259   0.235324         0.225156   0.131867   \n",
       "min                    1.089000   1.357000         0.050000   0.086000   \n",
       "25%                    1.669500   1.894000         0.477500   0.336500   \n",
       "50%                    2.036000   2.058000         0.674000   0.437000   \n",
       "75%                    2.232500   2.233000         0.785500   0.513000   \n",
       "max                    2.645000   2.358000         0.979000   0.656000   \n",
       "\n",
       "           Trust  Generosity  Dystopia Residual  Social Support         X1  \\\n",
       "count  94.000000   95.000000          95.000000       95.000000  95.000000   \n",
       "mean    0.118585    1.209832           2.086105        2.255084   0.046411   \n",
       "std     0.103389    0.116063           0.522508        0.251149   0.015619   \n",
       "min     0.002000    1.000000           0.669000        1.550000   0.020000   \n",
       "25%     0.051000    1.129500           1.773500        2.104500   0.037500   \n",
       "50%     0.082500    1.194000           2.066000        2.302000   0.044000   \n",
       "75%     0.140500    1.271000           2.407500        2.476000   0.049000   \n",
       "max     0.473000    1.724000           3.333000        2.590000   0.137000   \n",
       "\n",
       "       Happiness Score  \n",
       "count        95.000000  \n",
       "mean          5.536642  \n",
       "std           1.227575  \n",
       "min           3.202000  \n",
       "25%           4.520500  \n",
       "50%           5.569000  \n",
       "75%           6.349000  \n",
       "max           8.274000  "
      ]
     },
     "execution_count": 7,
     "metadata": {},
     "output_type": "execute_result"
    }
   ],
   "source": [
    "train.describe()"
   ]
  },
  {
   "cell_type": "markdown",
   "metadata": {},
   "source": [
    "### Visualizaation"
   ]
  },
  {
   "cell_type": "code",
   "execution_count": 8,
   "metadata": {},
   "outputs": [
    {
     "data": {
      "text/plain": [
       "<matplotlib.axes._subplots.AxesSubplot at 0x2773c6c0548>"
      ]
     },
     "execution_count": 8,
     "metadata": {},
     "output_type": "execute_result"
    },
    {
     "data": {
      "image/png": "[encoded data removed]",
      "text/plain": [
       "<Figure size 432x288 with 2 Axes>"
      ]
     },
     "metadata": {
      "needs_background": "light"
     },
     "output_type": "display_data"
    }
   ],
   "source": [
    "sns.heatmap(train.corr())"
   ]
  },
  {
   "cell_type": "code",
   "execution_count": 9,
   "metadata": {},
   "outputs": [
    {
     "data": {
      "text/plain": [
       "array([[<matplotlib.axes._subplots.AxesSubplot object at 0x000002773CAE8288>,\n",
       "        <matplotlib.axes._subplots.AxesSubplot object at 0x000002773CB19D88>,\n",
       "        <matplotlib.axes._subplots.AxesSubplot object at 0x000002773CB55608>],\n",
       "       [<matplotlib.axes._subplots.AxesSubplot object at 0x000002773CB90488>,\n",
       "        <matplotlib.axes._subplots.AxesSubplot object at 0x000002773CBCB348>,\n",
       "        <matplotlib.axes._subplots.AxesSubplot object at 0x000002773CBFDFC8>],\n",
       "       [<matplotlib.axes._subplots.AxesSubplot object at 0x000002773CC37F88>,\n",
       "        <matplotlib.axes._subplots.AxesSubplot object at 0x000002773CC71D08>,\n",
       "        <matplotlib.axes._subplots.AxesSubplot object at 0x000002773CC71F08>],\n",
       "       [<matplotlib.axes._subplots.AxesSubplot object at 0x000002773CCAAE48>,\n",
       "        <matplotlib.axes._subplots.AxesSubplot object at 0x000002773CD1D948>,\n",
       "        <matplotlib.axes._subplots.AxesSubplot object at 0x000002773CD56888>]],\n",
       "      dtype=object)"
      ]
     },
     "execution_count": 9,
     "metadata": {},
     "output_type": "execute_result"
    },
    {
     "data": {
      "image/png": "[encoded data removed]",
      "text/plain": [
       "<Figure size 1440x1080 with 12 Axes>"
      ]
     },
     "metadata": {
      "needs_background": "light"
     },
     "output_type": "display_data"
    }
   ],
   "source": [
    "train.hist(bins=50, figsize=(20, 15))"
   ]
  }
 ],
 "metadata": {
  "kernelspec": {
   "display_name": "Python 3",
   "language": "python",
   "name": "python3"
  },
  "language_info": {
   "codemirror_mode": {
    "name": "ipython",
    "version": 3
   },
   "file_extension": ".py",
   "mimetype": "text/x-python",
   "name": "python",
   "nbconvert_exporter": "python",
   "pygments_lexer": "ipython3",
   "version": "3.7.7"
  }
 },
 "nbformat": 4,
 "nbformat_minor": 4
}
